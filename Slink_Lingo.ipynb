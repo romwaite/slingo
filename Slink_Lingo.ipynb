{
  "nbformat": 4,
  "nbformat_minor": 0,
  "metadata": {
    "colab": {
      "provenance": []
    },
    "kernelspec": {
      "name": "python3",
      "display_name": "Python 3"
    },
    "language_info": {
      "name": "python"
    }
  },
  "cells": [
    {
      "cell_type": "code",
      "source": [
        "def flip_even_line_words(text):\n",
        "    lines = text.split(\"\\n\")\n",
        "    modified_lines = []\n",
        "    for index, line in enumerate(lines):\n",
        "        if index % 2 != 0:\n",
        "            words = line.split()\n",
        "            modified_words = []\n",
        "            for word in words:\n",
        "                modified_words.append(word[::-1])\n",
        "            modified_lines.append(\" \".join(modified_words[::-1]))\n",
        "        else:\n",
        "            modified_lines.append(line)\n",
        "\n",
        "    return \"\\n\".join(modified_lines)\n",
        "\n",
        "if __name__ == \"__main__\":\n",
        "    with open(\"input_text.txt\", \"r\") as input_file:\n",
        "        text = input_file.read()\n",
        "\n",
        "    modified_text = flip_even_line_words(text)\n",
        "\n",
        "    with open(\"output_text.txt\", \"w\") as output_file:\n",
        "        output_file.write(modified_text)\n"
      ],
      "metadata": {
        "id": "-0BMrRxuZYwe"
      },
      "execution_count": 22,
      "outputs": []
    },
    {
      "cell_type": "markdown",
      "source": [],
      "metadata": {
        "id": "BqD7gvqiZUJ4"
      }
    }
  ]
}